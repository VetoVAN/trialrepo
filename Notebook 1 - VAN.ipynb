{
    "cells": [
        {
            "cell_type": "markdown",
            "metadata": {},
            "source": "# Description\nTrial description"
        },
        {
            "cell_type": "code",
            "execution_count": 1,
            "metadata": {},
            "outputs": [
                {
                    "data": {
                        "text/html": "<div>\n<style scoped>\n    .dataframe tbody tr th:only-of-type {\n        vertical-align: middle;\n    }\n\n    .dataframe tbody tr th {\n        vertical-align: top;\n    }\n\n    .dataframe thead th {\n        text-align: right;\n    }\n</style>\n<table border=\"1\" class=\"dataframe\">\n  <thead>\n    <tr style=\"text-align: right;\">\n      <th></th>\n      <th>Country or Area</th>\n      <th>Commodity - Transaction</th>\n      <th>Year</th>\n      <th>Unit</th>\n      <th>Quantity</th>\n      <th>Quantity Footnotes</th>\n      <th>Quantity Footnotes.1</th>\n    </tr>\n  </thead>\n  <tbody>\n    <tr>\n      <th>0</th>\n      <td>Algeria</td>\n      <td>Coking coal - imports</td>\n      <td>2018.0</td>\n      <td>Metric tons,  thousand</td>\n      <td>12.0</td>\n      <td>NaN</td>\n      <td>NaN</td>\n    </tr>\n    <tr>\n      <th>1</th>\n      <td>Algeria</td>\n      <td>Coking coal - imports</td>\n      <td>2017.0</td>\n      <td>Metric tons,  thousand</td>\n      <td>0.0</td>\n      <td>NaN</td>\n      <td>NaN</td>\n    </tr>\n    <tr>\n      <th>2</th>\n      <td>Algeria</td>\n      <td>Coking coal - imports</td>\n      <td>2016.0</td>\n      <td>Metric tons,  thousand</td>\n      <td>0.0</td>\n      <td>NaN</td>\n      <td>NaN</td>\n    </tr>\n    <tr>\n      <th>3</th>\n      <td>Algeria</td>\n      <td>Coking coal - imports</td>\n      <td>2015.0</td>\n      <td>Metric tons,  thousand</td>\n      <td>0.0</td>\n      <td>NaN</td>\n      <td>NaN</td>\n    </tr>\n    <tr>\n      <th>4</th>\n      <td>Algeria</td>\n      <td>Coking coal - imports</td>\n      <td>2014.0</td>\n      <td>Metric tons,  thousand</td>\n      <td>20.0</td>\n      <td>NaN</td>\n      <td>NaN</td>\n    </tr>\n  </tbody>\n</table>\n</div>",
                        "text/plain": "  Country or Area Commodity - Transaction    Year                    Unit  \\\n0         Algeria   Coking coal - imports  2018.0  Metric tons,  thousand   \n1         Algeria   Coking coal - imports  2017.0  Metric tons,  thousand   \n2         Algeria   Coking coal - imports  2016.0  Metric tons,  thousand   \n3         Algeria   Coking coal - imports  2015.0  Metric tons,  thousand   \n4         Algeria   Coking coal - imports  2014.0  Metric tons,  thousand   \n\n   Quantity  Quantity Footnotes  Quantity Footnotes.1  \n0      12.0                 NaN                   NaN  \n1       0.0                 NaN                   NaN  \n2       0.0                 NaN                   NaN  \n3       0.0                 NaN                   NaN  \n4      20.0                 NaN                   NaN  "
                    },
                    "execution_count": 1,
                    "metadata": {},
                    "output_type": "execute_result"
                }
            ],
            "source": "# The code was removed by Watson Studio for sharing."
        },
        {
            "cell_type": "code",
            "execution_count": null,
            "metadata": {},
            "outputs": [],
            "source": ""
        }
    ],
    "metadata": {
        "kernelspec": {
            "display_name": "Python 3.6",
            "language": "python",
            "name": "python3"
        },
        "language_info": {
            "codemirror_mode": {
                "name": "ipython",
                "version": 3
            },
            "file_extension": ".py",
            "mimetype": "text/x-python",
            "name": "python",
            "nbconvert_exporter": "python",
            "pygments_lexer": "ipython3",
            "version": "3.6.9"
        }
    },
    "nbformat": 4,
    "nbformat_minor": 1
}